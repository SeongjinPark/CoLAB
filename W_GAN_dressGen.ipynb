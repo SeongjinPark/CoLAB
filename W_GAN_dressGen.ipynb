{
  "nbformat": 4,
  "nbformat_minor": 0,
  "metadata": {
    "colab": {
      "name": "W_GAN_dressGen.ipynb",
      "provenance": [],
      "collapsed_sections": [],
      "include_colab_link": true
    },
    "kernelspec": {
      "name": "python3",
      "display_name": "Python 3"
    },
    "accelerator": "GPU"
  },
  "cells": [
    {
      "cell_type": "markdown",
      "metadata": {
        "id": "view-in-github",
        "colab_type": "text"
      },
      "source": [
        "<a href=\"https://colab.research.google.com/github/SeongjinPark/CoLAB/blob/master/W_GAN_dressGen.ipynb\" target=\"_parent\"><img src=\"https://colab.research.google.com/assets/colab-badge.svg\" alt=\"Open In Colab\"/></a>"
      ]
    },
    {
      "cell_type": "code",
      "metadata": {
        "colab_type": "code",
        "id": "oSLmjazaoCyM",
        "colab": {}
      },
      "source": [
        "#Training PArams\n",
        "learning_rate = 0.0002\n",
        "batch_size = 128\n",
        "epochs = 100000\n",
        "\n",
        "#Network params\n",
        "image_dim = 784 #img sz is 28x28\n",
        "Y_dimension = 10 # The number of classes\n",
        "gen_hidd_dim = 256\n",
        "disc_hidd_dim  = 256\n",
        "z_noise_dim = 100\n",
        "\n",
        "def xavier_init(shape):\n",
        "  return tf.random_normal(shape = shape, stddev= 1./tf.sqrt(shape[0]/2.0))"
      ],
      "execution_count": 0,
      "outputs": []
    },
    {
      "cell_type": "code",
      "metadata": {
        "id": "olbLKLTQOS8p",
        "colab_type": "code",
        "colab": {}
      },
      "source": [
        ""
      ],
      "execution_count": 0,
      "outputs": []
    },
    {
      "cell_type": "code",
      "metadata": {
        "id": "o7BJ4bn3OFcG",
        "colab_type": "code",
        "colab": {}
      },
      "source": [
        ""
      ],
      "execution_count": 0,
      "outputs": []
    },
    {
      "cell_type": "code",
      "metadata": {
        "id": "UcyoFmSRkVgl",
        "colab_type": "code",
        "outputId": "a7a665fc-fd05-47c9-ace9-bd5286ea6344",
        "colab": {
          "base_uri": "https://localhost:8080/",
          "height": 785
        }
      },
      "source": [
        "!wget http://fashion-mnist.s3-website.eu-central-1.amazonaws.com/train-images-idx3-ubyte.gz\n",
        "!wget http://fashion-mnist.s3-website.eu-central-1.amazonaws.com/train-labels-idx1-ubyte.gz\n",
        "!wget http://fashion-mnist.s3-website.eu-central-1.amazonaws.com/t10k-images-idx3-ubyte.gz\n",
        "!wget http://fashion-mnist.s3-website.eu-central-1.amazonaws.com/t10k-labels-idx1-ubyte.gz"
      ],
      "execution_count": 0,
      "outputs": [
        {
          "output_type": "stream",
          "text": [
            "--2020-03-15 13:54:16--  http://fashion-mnist.s3-website.eu-central-1.amazonaws.com/train-images-idx3-ubyte.gz\n",
            "Resolving fashion-mnist.s3-website.eu-central-1.amazonaws.com (fashion-mnist.s3-website.eu-central-1.amazonaws.com)... 52.219.74.19\n",
            "Connecting to fashion-mnist.s3-website.eu-central-1.amazonaws.com (fashion-mnist.s3-website.eu-central-1.amazonaws.com)|52.219.74.19|:80... connected.\n",
            "HTTP request sent, awaiting response... 200 OK\n",
            "Length: 26421880 (25M) [binary/octet-stream]\n",
            "Saving to: ‘train-images-idx3-ubyte.gz’\n",
            "\n",
            "train-images-idx3-u 100%[===================>]  25.20M   103MB/s    in 0.2s    \n",
            "\n",
            "2020-03-15 13:54:21 (103 MB/s) - ‘train-images-idx3-ubyte.gz’ saved [26421880/26421880]\n",
            "\n",
            "--2020-03-15 13:54:23--  http://fashion-mnist.s3-website.eu-central-1.amazonaws.com/train-labels-idx1-ubyte.gz\n",
            "Resolving fashion-mnist.s3-website.eu-central-1.amazonaws.com (fashion-mnist.s3-website.eu-central-1.amazonaws.com)... 52.219.73.142\n",
            "Connecting to fashion-mnist.s3-website.eu-central-1.amazonaws.com (fashion-mnist.s3-website.eu-central-1.amazonaws.com)|52.219.73.142|:80... connected.\n",
            "HTTP request sent, awaiting response... 200 OK\n",
            "Length: 29515 (29K) [binary/octet-stream]\n",
            "Saving to: ‘train-labels-idx1-ubyte.gz’\n",
            "\n",
            "train-labels-idx1-u 100%[===================>]  28.82K  --.-KB/s    in 0.01s   \n",
            "\n",
            "2020-03-15 13:54:23 (2.33 MB/s) - ‘train-labels-idx1-ubyte.gz’ saved [29515/29515]\n",
            "\n",
            "--2020-03-15 13:54:25--  http://fashion-mnist.s3-website.eu-central-1.amazonaws.com/t10k-images-idx3-ubyte.gz\n",
            "Resolving fashion-mnist.s3-website.eu-central-1.amazonaws.com (fashion-mnist.s3-website.eu-central-1.amazonaws.com)... 52.219.73.110\n",
            "Connecting to fashion-mnist.s3-website.eu-central-1.amazonaws.com (fashion-mnist.s3-website.eu-central-1.amazonaws.com)|52.219.73.110|:80... connected.\n",
            "HTTP request sent, awaiting response... 200 OK\n",
            "Length: 4422102 (4.2M) [binary/octet-stream]\n",
            "Saving to: ‘t10k-images-idx3-ubyte.gz’\n",
            "\n",
            "t10k-images-idx3-ub 100%[===================>]   4.22M  --.-KB/s    in 0.1s    \n",
            "\n",
            "2020-03-15 13:54:26 (42.0 MB/s) - ‘t10k-images-idx3-ubyte.gz’ saved [4422102/4422102]\n",
            "\n",
            "--2020-03-15 13:54:28--  http://fashion-mnist.s3-website.eu-central-1.amazonaws.com/t10k-labels-idx1-ubyte.gz\n",
            "Resolving fashion-mnist.s3-website.eu-central-1.amazonaws.com (fashion-mnist.s3-website.eu-central-1.amazonaws.com)... 52.219.72.118\n",
            "Connecting to fashion-mnist.s3-website.eu-central-1.amazonaws.com (fashion-mnist.s3-website.eu-central-1.amazonaws.com)|52.219.72.118|:80... connected.\n",
            "HTTP request sent, awaiting response... 200 OK\n",
            "Length: 5148 (5.0K) [binary/octet-stream]\n",
            "Saving to: ‘t10k-labels-idx1-ubyte.gz’\n",
            "\n",
            "t10k-labels-idx1-ub 100%[===================>]   5.03K  --.-KB/s    in 0s      \n",
            "\n",
            "2020-03-15 13:54:28 (465 MB/s) - ‘t10k-labels-idx1-ubyte.gz’ saved [5148/5148]\n",
            "\n"
          ],
          "name": "stdout"
        }
      ]
    },
    {
      "cell_type": "code",
      "metadata": {
        "id": "wx26lBNnlSb-",
        "colab_type": "code",
        "outputId": "002da802-5e67-44ff-f5a0-5ed18d6e882b",
        "colab": {
          "base_uri": "https://localhost:8080/",
          "height": 68
        }
      },
      "source": [
        "!ls"
      ],
      "execution_count": 0,
      "outputs": [
        {
          "output_type": "stream",
          "text": [
            "sample_data\t\t   train-images-idx3-ubyte.gz\n",
            "t10k-images-idx3-ubyte.gz  train-labels-idx1-ubyte.gz\n",
            "t10k-labels-idx1-ubyte.gz\n"
          ],
          "name": "stdout"
        }
      ]
    },
    {
      "cell_type": "code",
      "metadata": {
        "id": "9BazpF0bmJM0",
        "colab_type": "code",
        "outputId": "410aead1-4f14-4667-e191-1c80ffafc72e",
        "colab": {
          "base_uri": "https://localhost:8080/",
          "height": 63
        }
      },
      "source": [
        "import numpy as np\n",
        "import tensorflow as tf\n",
        "import matplotlib.pyplot as plt\n",
        "import matplotlib.gridspec as gridspec"
      ],
      "execution_count": 0,
      "outputs": [
        {
          "output_type": "display_data",
          "data": {
            "text/html": [
              "<p style=\"color: red;\">\n",
              "The default version of TensorFlow in Colab will soon switch to TensorFlow 2.x.<br>\n",
              "We recommend you <a href=\"https://www.tensorflow.org/guide/migrate\" target=\"_blank\">upgrade</a> now \n",
              "or ensure your notebook will continue to use TensorFlow 1.x via the <code>%tensorflow_version 1.x</code> magic:\n",
              "<a href=\"https://colab.research.google.com/notebooks/tensorflow_version.ipynb\" target=\"_blank\">more info</a>.</p>\n"
            ],
            "text/plain": [
              "<IPython.core.display.HTML object>"
            ]
          },
          "metadata": {
            "tags": []
          }
        }
      ]
    },
    {
      "cell_type": "code",
      "metadata": {
        "colab_type": "code",
        "outputId": "1d8b5007-b2cc-465d-cb34-5a0a6b01b6e2",
        "id": "rUpVoRUunrh5",
        "colab": {
          "base_uri": "https://localhost:8080/",
          "height": 139
        }
      },
      "source": [
        "!mkdir MNIST_Fashion\n",
        "!cp *.gz MNIST_Fashion/\n"
      ],
      "execution_count": 0,
      "outputs": [
        {
          "output_type": "stream",
          "text": [
            "mkdir: cannot create directory ‘MNIST_Fashion’: File exists\n",
            "Extracting MNIST_Fashion/train-images-idx3-ubyte.gz\n",
            "Extracting MNIST_Fashion/train-labels-idx1-ubyte.gz\n",
            "Extracting MNIST_Fashion/t10k-images-idx3-ubyte.gz\n",
            "Extracting MNIST_Fashion/t10k-labels-idx1-ubyte.gz\n",
            "Datasets(train=<tensorflow.contrib.learn.python.learn.datasets.mnist.DataSet object at 0x7f994bddb5c0>, validation=<tensorflow.contrib.learn.python.learn.datasets.mnist.DataSet object at 0x7f994bddb2e8>, test=<tensorflow.contrib.learn.python.learn.datasets.mnist.DataSet object at 0x7f994bddb630>)\n"
          ],
          "name": "stdout"
        }
      ]
    },
    {
      "cell_type": "code",
      "metadata": {
        "id": "xSBAA-R2oVQE",
        "colab_type": "code",
        "outputId": "32948045-3ce1-4399-f81d-a0ecc7dbb96a",
        "colab": {
          "base_uri": "https://localhost:8080/",
          "height": 370
        }
      },
      "source": [
        "from tensorflow.examples.tutorials.mnist import input_data\n",
        "mnist = input_data.read_data_sets(\"MNIST_Fashion/\")\n",
        "print(mnist)\n",
        "plt.imshow(mnist.train.images[1].reshape([28,28]), cmap='gray')\n",
        "plt.show()"
      ],
      "execution_count": 0,
      "outputs": [
        {
          "output_type": "stream",
          "text": [
            "Extracting MNIST_Fashion/train-images-idx3-ubyte.gz\n",
            "Extracting MNIST_Fashion/train-labels-idx1-ubyte.gz\n",
            "Extracting MNIST_Fashion/t10k-images-idx3-ubyte.gz\n",
            "Extracting MNIST_Fashion/t10k-labels-idx1-ubyte.gz\n",
            "Datasets(train=<tensorflow.contrib.learn.python.learn.datasets.mnist.DataSet object at 0x7f994b916940>, validation=<tensorflow.contrib.learn.python.learn.datasets.mnist.DataSet object at 0x7f994b916f60>, test=<tensorflow.contrib.learn.python.learn.datasets.mnist.DataSet object at 0x7f994b916ac8>)\n"
          ],
          "name": "stdout"
        },
        {
          "output_type": "display_data",
          "data": {
            "image/png": "[encoded data removed]",
            "text/plain": [
              "<Figure size 432x288 with 1 Axes>"
            ]
          },
          "metadata": {
            "tags": []
          }
        }
      ]
    },
    {
      "cell_type": "code",
      "metadata": {
        "id": "YZT-GzeQtaQN",
        "colab_type": "code",
        "colab": {}
      },
      "source": [
        "weights = {\n",
        "    \"disc_H\" : tf.Variable(xavier_init([image_dim , disc_hidd_dim])),\n",
        "    \"disc_final\": tf.Variable(xavier_init([disc_hidd_dim,1])),\n",
        "    \"gen_H\": tf.Variable(xavier_init([z_noise_dim , gen_hidd_dim])),\n",
        "    \"gen_final\": tf.Variable(xavier_init([gen_hidd_dim, image_dim]))\n",
        "}\n",
        "\n",
        "bias = {\n",
        "    \"disc_H\" : tf.Variable(xavier_init([disc_hidd_dim])),\n",
        "    \"disc_final\": tf.Variable(xavier_init([1])),\n",
        "    \"gen_H\": tf.Variable(xavier_init([gen_hidd_dim])),\n",
        "    \"gen_final\": tf.Variable(xavier_init([image_dim]))\n",
        "}"
      ],
      "execution_count": 0,
      "outputs": []
    },
    {
      "cell_type": "code",
      "metadata": {
        "id": "-hn90CdeTXRg",
        "colab_type": "code",
        "colab": {}
      },
      "source": [
        "#define placeholders for external input\n",
        "\n",
        "z_input = tf.placeholder(tf.float32, shape = [None, z_noise_dim], name = \"input_noise\")\n",
        "x_input = tf.placeholder(tf.float32, shape = [None, image_dim], name = \"real_input\")\n",
        "Y_input = tf.placeholder(tf.float32, shape = [None, Y_dimension], name = \"Labels\")\n",
        "\n"
      ],
      "execution_count": 0,
      "outputs": []
    },
    {
      "cell_type": "code",
      "metadata": {
        "id": "Od--kA7nvAch",
        "colab_type": "code",
        "colab": {}
      },
      "source": [
        "def Discriminator(x):\n",
        "  hidden_layer = tf.nn.relu(tf.add(tf.matmul(x, weights[\"disc_H\"]), bias[\"disc_H\"]))\n",
        "  final_layer = (tf.add(tf.matmul(hidden_layer, weights[\"disc_final\"]), bias[\"disc_final\"]))\n",
        "  disc_output = (final_layer) #NO SIGMOID IN W-GAN\n",
        "  return disc_output\n",
        "  "
      ],
      "execution_count": 0,
      "outputs": []
    },
    {
      "cell_type": "code",
      "metadata": {
        "id": "96s5eXy8wELi",
        "colab_type": "code",
        "colab": {}
      },
      "source": [
        "#Generator NW\n",
        "def Generator(x):\n",
        "  hidden_layer = tf.nn.relu(tf.add(tf.matmul(x, weights[\"gen_H\"]), bias[\"gen_H\"]))\n",
        "  final_layer = (tf.add(tf.matmul(hidden_layer, weights[\"gen_final\"]), bias[\"gen_final\"]))\n",
        "  gen_output = tf.nn.sigmoid(final_layer)\n",
        "  return gen_output\n",
        "  "
      ],
      "execution_count": 0,
      "outputs": []
    },
    {
      "cell_type": "code",
      "metadata": {
        "id": "vfq_esohxQOo",
        "colab_type": "code",
        "colab": {}
      },
      "source": [
        "# building the GEN NW\n",
        "with tf.name_scope(\"Generator\") as scope:\n",
        "  output_Gen = Generator(z_input) \n",
        " \n",
        " # Building the Disc NW\n",
        "with tf.name_scope(\"Generator\") as scope:\n",
        "  real_output_disc = Discriminator(x_input) \n",
        "  fake_output_disc = Discriminator(output_Gen)\n",
        "\n"
      ],
      "execution_count": 0,
      "outputs": []
    },
    {
      "cell_type": "code",
      "metadata": {
        "id": "09_G-6jyyxIl",
        "colab_type": "code",
        "colab": {}
      },
      "source": [
        "#first kind of loss\n",
        "with tf.name_scope(\"Discriminator_Loss\") as scope:\n",
        "  Discriminator_Loss = tf.reduce_mean(real_output_disc)-tf.reduce_mean(fake_output_disc)\n",
        "  \n",
        "with tf.name_scope(\"Genetator_Loss\") as scope:\n",
        "  Generator_Loss = -tf.reduce_mean(fake_output_disc) # due to max log(D(G(x)))\n",
        "\n",
        "  # T-board summary\n",
        "  \n",
        "  Disc_loss_total = tf.summary.scalar(\"Disc_Total_loss\", Discriminator_Loss)\n",
        "  Gen_loss_total = tf.summary.scalar(\"Gen_loss\", Generator_Loss)\n"
      ],
      "execution_count": 0,
      "outputs": []
    },
    {
      "cell_type": "code",
      "metadata": {
        "id": "beVetM5N1xsX",
        "colab_type": "code",
        "colab": {}
      },
      "source": [
        "# #second kind of loss\n",
        "# with tf.name_scope(\"Discriminator_Loss\") as scope:\n",
        "#   Disc_real_loss = tf.reduce_mean(tf.nn.sigmoid_cross_entropy_with_logits(logits = real_output1_Disc, labels = tf.ones_like(real_output1_Disc)))\n",
        "#   Disc_fake_loss = tf.reduce_mean(tf.nn.sigmoid_cross_entropy_with_logits(logits = fake_output1_Disc, labels = tf.zeros_like(fake_output1_Disc)))\n",
        "#   Discriminator_Loss = Disc_real_loss + Disc_fake_loss\n",
        "\n",
        "  \n",
        "# with tf.name_scope(\"Genetator_Loss\") as scope:\n",
        "#   Generator_Loss = tf.reduce_mean(tf.nn.sigmoid_cross_entropy_with_logits(logits = fake_output1_Disc, labels = tf.ones_like(fake_output1_Disc)))\n",
        "  \n",
        "#   # Tensorboarf summary\n",
        "  \n",
        "# Disc_loss_real_summary = tf.summary.scalar('Disc_loss_real', Disc_real_loss)\n",
        "# Disc_loss_fake_summary = tf.summary.scalar('Disc_loss_fake', Disc_fake_loss)\n",
        "# Disc_loss_summary = tf.summary.scalar('Disc_total_loss', Discriminator_Loss)\n",
        "\n",
        "# Disc_loss_total = tf.summary.merge([Disc_loss_real_summary, Disc_loss_fake_summary, Disc_loss_summary])\n",
        "# Gen_loss_total = tf.summary.scalar('Gen_loss', Generator_Loss)\n",
        "\n",
        "\n"
      ],
      "execution_count": 0,
      "outputs": []
    },
    {
      "cell_type": "code",
      "metadata": {
        "id": "DmvjYQaKuXpi",
        "colab_type": "code",
        "outputId": "4a6525ec-0c45-4140-b9bb-704b3cdf05e3",
        "colab": {
          "base_uri": "https://localhost:8080/",
          "height": 88
        }
      },
      "source": [
        "  # Define the variables\n",
        "\n",
        "Generator_var = [weights[\"gen_H\"], weights[\"gen_final\"], bias[\"gen_H\"], bias[\"gen_final\"]]\n",
        "Discriminator_var = [weights[\"disc_H\"], weights[\"disc_final\"], bias[\"disc_H\"], bias[\"disc_final\"]]\n",
        "\n",
        "#Define the optimizer\n",
        "with tf.name_scope(\"Optimizer_Discriminator\") as scope:\n",
        "  Discriminator_optimize = tf.train.RMSPropOptimizer(learning_rate = learning_rate).minimize(-Discriminator_Loss, var_list = Discriminator_var)\n",
        "\n",
        "with tf.name_scope(\"Optimizer_Generator\") as scope:\n",
        "  Generator_optimize = tf.train.RMSPropOptimizer(learning_rate = learning_rate).minimize(Generator_Loss, var_list = Generator_var)\n",
        "  \n",
        "# Clipping of the Discriminator(critic) parameter\n",
        "clip_disc_param = [p.assign(tf.clip_by_value(p, -0.01, 0.01)) for p in Discriminator_var] # Lipshutz continuity\n",
        "  "
      ],
      "execution_count": 0,
      "outputs": [
        {
          "output_type": "stream",
          "text": [
            "WARNING:tensorflow:From /usr/local/lib/python3.6/dist-packages/tensorflow_core/python/training/rmsprop.py:119: calling Ones.__init__ (from tensorflow.python.ops.init_ops) with dtype is deprecated and will be removed in a future version.\n",
            "Instructions for updating:\n",
            "Call initializer instance with the dtype argument instead of passing it to the constructor\n"
          ],
          "name": "stdout"
        }
      ]
    },
    {
      "cell_type": "code",
      "metadata": {
        "id": "B6nBmWh6wLLq",
        "colab_type": "code",
        "outputId": "e3be3680-3e46-439a-9039-988c7c4096ac",
        "colab": {
          "base_uri": "https://localhost:8080/",
          "height": 867
        }
      },
      "source": [
        "# Initialize the variables\n",
        "\n",
        "init = tf.global_variables_initializer()\n",
        "sess = tf.Session()\n",
        "\n",
        "sess.run(init)\n",
        "writer = tf.summary.FileWriter(\"./log\", sess.graph)\n",
        "\n",
        "for epoch in range(epochs):\n",
        "  \n",
        "  for _ in range(5): # Training Discriminator more as compared to Gen thus n=5 times\n",
        "    x_batch, _ = mnist.train.next_batch(batch_size)\n",
        "    #Generate noise to feed Discriminator\n",
        "    z_noise = np.random.uniform(-1.,1.,size = [batch_size, z_noise_dim])\n",
        "    _, Disc_loss_epoch, clipping_D = sess.run([Discriminator_optimize, Discriminator_Loss, clip_disc_param], feed_dict = {x_input:x_batch, z_input:z_noise})\n",
        "  \n",
        "  \n",
        "  _, Gen_loss_epoch = sess.run([Generator_optimize, Generator_Loss], feed_dict = {z_input:z_noise})  \n",
        "  \n",
        "  #Running the Discriminator summary\n",
        "  summary_Disc_loss = sess.run(Disc_loss_total, feed_dict = {x_input:x_batch, z_input:z_noise})\n",
        "  # Adding the Discriminator summary\n",
        "  writer.add_summary(summary_Disc_loss, epoch)\n",
        "  \n",
        "  #Running the Generator summary\n",
        "  summary_Gen_loss = sess.run(Gen_loss_total, feed_dict = {z_input:z_noise})\n",
        "  # Adding the Generator summary\n",
        "  writer.add_summary(summary_Gen_loss, epoch)\n",
        "  \n",
        "  if epoch % 2000 == 0:\n",
        "    print(\"Steps: {0}: Generator Loss: {1}, Discriminator Loss:{2}\".format(epoch, Gen_loss_epoch, Disc_loss_epoch))\n",
        "  \n",
        "  \n"
      ],
      "execution_count": 0,
      "outputs": [
        {
          "output_type": "stream",
          "text": [
            "Steps: 0: Generator Loss: -0.006387918721884489, Discriminator Loss:0.01174937468022108\n",
            "Steps: 2000: Generator Loss: -0.06492140889167786, Discriminator Loss:0.10463418811559677\n",
            "Steps: 4000: Generator Loss: -0.08179764449596405, Discriminator Loss:0.06574389338493347\n",
            "Steps: 6000: Generator Loss: -0.042575765401124954, Discriminator Loss:0.022764794528484344\n",
            "Steps: 8000: Generator Loss: -0.03144517168402672, Discriminator Loss:0.014817733317613602\n",
            "Steps: 10000: Generator Loss: -0.0385718047618866, Discriminator Loss:0.012441623955965042\n",
            "Steps: 12000: Generator Loss: -0.028590550646185875, Discriminator Loss:0.011183377355337143\n",
            "Steps: 14000: Generator Loss: -0.036745309829711914, Discriminator Loss:0.009895216673612595\n",
            "Steps: 16000: Generator Loss: -0.014856768772006035, Discriminator Loss:0.01022765040397644\n",
            "Steps: 18000: Generator Loss: -0.020370425656437874, Discriminator Loss:0.013755695894360542\n",
            "Steps: 20000: Generator Loss: -0.024528881534934044, Discriminator Loss:0.009060710668563843\n",
            "Steps: 22000: Generator Loss: 0.028732042759656906, Discriminator Loss:0.016456495970487595\n",
            "Steps: 24000: Generator Loss: 0.013736151158809662, Discriminator Loss:0.02466542273759842\n",
            "Steps: 26000: Generator Loss: -0.0014577580150216818, Discriminator Loss:0.018151115626096725\n",
            "Steps: 28000: Generator Loss: -0.03741788864135742, Discriminator Loss:0.019703179597854614\n",
            "Steps: 30000: Generator Loss: -0.03750175982713699, Discriminator Loss:0.00781552866101265\n",
            "Steps: 32000: Generator Loss: -0.013425594195723534, Discriminator Loss:0.0002806335687637329\n",
            "Steps: 34000: Generator Loss: 0.0007503757951781154, Discriminator Loss:0.010587645694613457\n",
            "Steps: 36000: Generator Loss: 0.008580513298511505, Discriminator Loss:0.006314155645668507\n",
            "Steps: 38000: Generator Loss: -0.006499235983937979, Discriminator Loss:0.0034126020036637783\n",
            "Steps: 40000: Generator Loss: -0.04870559647679329, Discriminator Loss:0.004384368658065796\n",
            "Steps: 42000: Generator Loss: -0.022153053432703018, Discriminator Loss:0.012546811252832413\n",
            "Steps: 44000: Generator Loss: -0.008326444774866104, Discriminator Loss:0.009405121207237244\n",
            "Steps: 46000: Generator Loss: -0.03795338422060013, Discriminator Loss:0.012103721499443054\n",
            "Steps: 48000: Generator Loss: 0.016846459358930588, Discriminator Loss:0.007363138720393181\n",
            "Steps: 50000: Generator Loss: 0.02101457491517067, Discriminator Loss:0.010028752498328686\n",
            "Steps: 52000: Generator Loss: -0.057261742651462555, Discriminator Loss:-0.013634540140628815\n",
            "Steps: 54000: Generator Loss: -0.004383062478154898, Discriminator Loss:0.004052335396409035\n",
            "Steps: 56000: Generator Loss: -0.014888080768287182, Discriminator Loss:-0.010716289281845093\n",
            "Steps: 58000: Generator Loss: -0.02751789428293705, Discriminator Loss:0.009443923830986023\n",
            "Steps: 60000: Generator Loss: -0.011407977901399136, Discriminator Loss:0.007977867498993874\n",
            "Steps: 62000: Generator Loss: -0.021355602890253067, Discriminator Loss:0.004097901284694672\n",
            "Steps: 64000: Generator Loss: -0.0068614287301898, Discriminator Loss:0.009324092417955399\n",
            "Steps: 66000: Generator Loss: -0.009367839433252811, Discriminator Loss:0.011444952338933945\n",
            "Steps: 68000: Generator Loss: -0.0311626847833395, Discriminator Loss:0.0059397779405117035\n",
            "Steps: 70000: Generator Loss: -0.03145533800125122, Discriminator Loss:0.011623824015259743\n",
            "Steps: 72000: Generator Loss: 0.0046307905577123165, Discriminator Loss:0.007585851475596428\n",
            "Steps: 74000: Generator Loss: -0.05169494450092316, Discriminator Loss:0.006973806768655777\n",
            "Steps: 76000: Generator Loss: -0.021767688915133476, Discriminator Loss:-0.0014723557978868484\n",
            "Steps: 78000: Generator Loss: -0.016181066632270813, Discriminator Loss:0.000289376825094223\n",
            "Steps: 80000: Generator Loss: -0.012833278626203537, Discriminator Loss:0.004602476954460144\n",
            "Steps: 82000: Generator Loss: -0.029254615306854248, Discriminator Loss:0.006447123363614082\n",
            "Steps: 84000: Generator Loss: 0.01103237085044384, Discriminator Loss:0.004020869731903076\n",
            "Steps: 86000: Generator Loss: -0.02007770910859108, Discriminator Loss:0.008552910760045052\n",
            "Steps: 88000: Generator Loss: -0.04465382546186447, Discriminator Loss:0.00658000260591507\n",
            "Steps: 90000: Generator Loss: -0.059726566076278687, Discriminator Loss:0.007991734892129898\n",
            "Steps: 92000: Generator Loss: -0.011035175994038582, Discriminator Loss:0.010001866146922112\n",
            "Steps: 94000: Generator Loss: 0.04546632617712021, Discriminator Loss:0.008817948400974274\n",
            "Steps: 96000: Generator Loss: -0.03928959369659424, Discriminator Loss:0.004094209522008896\n",
            "Steps: 98000: Generator Loss: 0.006482245400547981, Discriminator Loss:0.004747611470520496\n"
          ],
          "name": "stdout"
        }
      ]
    },
    {
      "cell_type": "code",
      "metadata": {
        "id": "gSHkcV7-EP7z",
        "colab_type": "code",
        "outputId": "ab81eb35-cd49-43ff-8b23-74ca37b5dbf3",
        "colab": {
          "base_uri": "https://localhost:8080/",
          "height": 85
        }
      },
      "source": [
        "print(x_batch.shape)\n",
        "print(x_input.shape)\n",
        "print(z_input.shape)\n",
        "print(z_noise.shape)\n",
        "\n"
      ],
      "execution_count": 0,
      "outputs": [
        {
          "output_type": "stream",
          "text": [
            "(128, 784)\n",
            "(?, 784)\n",
            "(?, 100)\n",
            "(128, 100)\n"
          ],
          "name": "stdout"
        }
      ]
    },
    {
      "cell_type": "code",
      "metadata": {
        "id": "O4NBuJPt2iwm",
        "colab_type": "code",
        "outputId": "7bcf5f31-15f5-44d8-dbe5-cb46b2c23a10",
        "colab": {
          "base_uri": "https://localhost:8080/",
          "height": 377
        }
      },
      "source": [
        "#Testing\n",
        "# Generate images from noise, using the generator network\n",
        "\n",
        "n = 6\n",
        "canvas = np.empty((28*n, 28*n))\n",
        "for i in range(n):\n",
        "  #Noise input\n",
        "  z_noise = np.random.uniform(-1.,1., size = [batch_size, z_noise_dim])\n",
        "  # Generate image from noise\n",
        "  g = sess.run(output_Gen, feed_dict = {z_input:z_noise})\n",
        "  # Reverse colors for better display\n",
        "  g=-1*(g-1)\n",
        "  for j in range(n):\n",
        "    #Draw the generated digits\n",
        "    canvas[i*28:(i+1)*28, j*28:(j+1)*28] = g[j].reshape([28, 28])\n",
        "    \n",
        "plt.figure(figsize = (n,n))\n",
        "plt.imshow(canvas, origin = \"upper\", cmap = \"gray\")\n",
        "plt.show()"
      ],
      "execution_count": 0,
      "outputs": [
        {
          "output_type": "display_data",
          "data": {
            "image/png": "[encoded data removed]",
            "text/plain": [
              "<Figure size 432x432 with 1 Axes>"
            ]
          },
          "metadata": {
            "tags": []
          }
        }
      ]
    },
    {
      "cell_type": "code",
      "metadata": {
        "id": "ZGvnSGzIKXP1",
        "colab_type": "code",
        "colab": {}
      },
      "source": [
        ""
      ],
      "execution_count": 0,
      "outputs": []
    }
  ]
}